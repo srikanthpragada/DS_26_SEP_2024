{
 "cells": [
  {
   "cell_type": "code",
   "execution_count": 23,
   "id": "a1b76710-a140-47d0-9e91-2cc8218ae6c0",
   "metadata": {
    "tags": []
   },
   "outputs": [
    {
     "name": "stdout",
     "output_type": "stream",
     "text": [
      "Hello\n"
     ]
    }
   ],
   "source": [
    "print(\"Hello\")"
   ]
  },
  {
   "cell_type": "code",
   "execution_count": 24,
   "id": "729da9f7-6af6-40d6-9629-1e1921bb5f81",
   "metadata": {},
   "outputs": [],
   "source": [
    "import datetime"
   ]
  },
  {
   "cell_type": "code",
   "execution_count": 25,
   "id": "e5b8feee-106c-4d9d-b6a4-13207db5e715",
   "metadata": {},
   "outputs": [
    {
     "name": "stdout",
     "output_type": "stream",
     "text": [
      "2024-09-28 08:23:23.210737\n"
     ]
    }
   ],
   "source": [
    "print(datetime.datetime.now())"
   ]
  },
  {
   "cell_type": "code",
   "execution_count": 27,
   "id": "0ed3bccb-f1fa-4376-a701-277289a75ba1",
   "metadata": {},
   "outputs": [],
   "source": [
    "ct  = datetime.datetime.now()"
   ]
  },
  {
   "cell_type": "code",
   "execution_count": 28,
   "id": "e9f81879-49b7-4505-8f55-722d7e5ebb23",
   "metadata": {},
   "outputs": [
    {
     "name": "stdout",
     "output_type": "stream",
     "text": [
      "2024-09-28 08:25:01.540068\n"
     ]
    }
   ],
   "source": [
    "print(ct)"
   ]
  },
  {
   "cell_type": "code",
   "execution_count": 30,
   "id": "af618404-9a5f-4397-af7e-a443b666b7ef",
   "metadata": {},
   "outputs": [
    {
     "data": {
      "text/plain": [
       "\u001b[1;31mDocstring:\u001b[0m string, format -> new datetime parsed from a string (like time.strptime()).\n",
       "\u001b[1;31mType:\u001b[0m      builtin_function_or_method"
      ]
     },
     "metadata": {},
     "output_type": "display_data"
    }
   ],
   "source": [
    "ct.strptime?"
   ]
  },
  {
   "cell_type": "code",
   "execution_count": null,
   "id": "8bbb19b4-0c6b-45a2-8e5c-2082d82c3943",
   "metadata": {},
   "outputs": [],
   "source": []
  },
  {
   "cell_type": "code",
   "execution_count": 26,
   "id": "1ab31023-4f9b-47b0-bbde-b47a7d539d7a",
   "metadata": {},
   "outputs": [],
   "source": [
    "s = \"abc\""
   ]
  },
  {
   "cell_type": "code",
   "execution_count": null,
   "id": "ed4c5b98-49fd-4e53-851e-9d16a42ec5b1",
   "metadata": {},
   "outputs": [],
   "source": []
  },
  {
   "cell_type": "markdown",
   "id": "1eba56a6-2c8f-414b-8802-b4a3f19d2414",
   "metadata": {},
   "source": [
    "<h1>Heading 1 </h1>"
   ]
  },
  {
   "cell_type": "markdown",
   "id": "1eba35a9-ef84-47c3-b865-200f7fe7b3cc",
   "metadata": {},
   "source": [
    "# Heading1"
   ]
  },
  {
   "cell_type": "markdown",
   "id": "b102f43f-1436-4186-9ffc-7cf39946325d",
   "metadata": {},
   "source": [
    "**bold**\n",
    "*italic*"
   ]
  },
  {
   "cell_type": "markdown",
   "id": "24ecbbd1-07ca-44dd-9cba-c85aeb5e3a9a",
   "metadata": {},
   "source": [
    "`This is fine`"
   ]
  },
  {
   "cell_type": "markdown",
   "id": "60c468ec-a6a8-40d1-bb3f-f5d7d90152e7",
   "metadata": {},
   "source": [
    "**this is fine**"
   ]
  },
  {
   "cell_type": "markdown",
   "id": "6d1d3753-79ec-447f-b309-d916b7d338b3",
   "metadata": {},
   "source": [
    "<ul><li>Classification</li><li>Regression</li></ul>"
   ]
  },
  {
   "cell_type": "markdown",
   "id": "0f84cf39-e143-4ab5-ac5f-de2675ff4cf7",
   "metadata": {},
   "source": [
    "- Classification\n",
    "- Regression\n",
    "- Clustering"
   ]
  },
  {
   "cell_type": "markdown",
   "id": "d51c2437-b1c6-4f5a-825a-4fe5dc3f9909",
   "metadata": {},
   "source": [
    "1. Numpy\n",
    "1. Pandas\n",
    "1. Matplotlib"
   ]
  },
  {
   "cell_type": "markdown",
   "id": "8e2e5c0a-ef47-4375-941c-8477c6d6abe7",
   "metadata": {},
   "source": [
    "***"
   ]
  },
  {
   "cell_type": "markdown",
   "id": "b22b7386-6ecf-4792-a66a-d56a89e63f04",
   "metadata": {},
   "source": [
    "<div class=\"alert alert-block alert-warning\">\n",
    "    This is a warning!!!\n",
    "</div>"
   ]
  },
  {
   "cell_type": "markdown",
   "id": "49521777-135c-4491-800d-151f572bf132",
   "metadata": {},
   "source": [
    "<div class=\"alert alert-block alert-danger\">\n",
    "    This is a dangerous!!!\n",
    "</div>"
   ]
  },
  {
   "cell_type": "code",
   "execution_count": 33,
   "id": "afdc9bfe-b208-4053-a4b2-1a3245d43da2",
   "metadata": {},
   "outputs": [
    {
     "data": {
      "text/html": [
       "<img src=\"http://www.srikanthtechnologies.com/banner.jpg\"/>"
      ],
      "text/plain": [
       "<IPython.core.display.Image object>"
      ]
     },
     "execution_count": 33,
     "metadata": {},
     "output_type": "execute_result"
    }
   ],
   "source": [
    "from IPython.display import Image\n",
    "Image(url =\"http://www.srikanthtechnologies.com/banner.jpg\")"
   ]
  },
  {
   "cell_type": "markdown",
   "id": "3ab0ddde-a57a-457d-93ca-1ded4b520a7a",
   "metadata": {},
   "source": [
    "## Magic Functions"
   ]
  },
  {
   "cell_type": "code",
   "execution_count": 34,
   "id": "3122c896-09b8-4366-865f-d3655ef22f2d",
   "metadata": {
    "tags": []
   },
   "outputs": [
    {
     "data": {
      "text/plain": [
       "'C:\\\\classroom\\\\ds26'"
      ]
     },
     "execution_count": 34,
     "metadata": {},
     "output_type": "execute_result"
    }
   ],
   "source": [
    "%pwd"
   ]
  },
  {
   "cell_type": "code",
   "execution_count": 35,
   "id": "722e7d14-7da0-4386-8072-136d6c62f190",
   "metadata": {
    "tags": []
   },
   "outputs": [
    {
     "data": {
      "text/plain": [
       "[' Volume in drive C is OS',\n",
       " ' Volume Serial Number is 9017-51D3',\n",
       " '',\n",
       " ' Directory of C:\\\\classroom\\\\ds26',\n",
       " '',\n",
       " '28-09-2024  08:42    <DIR>          .',\n",
       " '27-09-2024  08:42    <DIR>          ..',\n",
       " '28-09-2024  08:16    <DIR>          .ipynb_checkpoints',\n",
       " '28-09-2024  07:29    <DIR>          .virtual_documents',\n",
       " '28-09-2024  08:15             2,089 demo.ipynb',\n",
       " '28-09-2024  07:29                45 libs.txt',\n",
       " '28-09-2024  08:42            12,371 notebook_demo.ipynb',\n",
       " '               3 File(s)         14,505 bytes',\n",
       " '               4 Dir(s)  253,500,624,896 bytes free']"
      ]
     },
     "execution_count": 35,
     "metadata": {},
     "output_type": "execute_result"
    }
   ],
   "source": [
    "%system dir"
   ]
  },
  {
   "cell_type": "code",
   "execution_count": 36,
   "id": "0aa5fcce-12c4-4af2-a463-df60657c573b",
   "metadata": {},
   "outputs": [
    {
     "name": "stdout",
     "output_type": "stream",
     "text": [
      "Image\t NamespaceMagics\t ct\t datetime\t get_ipython\t i\t json\t libs\t output\t \n",
      "s\t sys\t \n"
     ]
    }
   ],
   "source": [
    "%who"
   ]
  },
  {
   "cell_type": "markdown",
   "id": "0ee15195-0c80-47a0-8b63-2754ca6e92f9",
   "metadata": {},
   "source": [
    "### Cell magic "
   ]
  },
  {
   "cell_type": "code",
   "execution_count": 41,
   "id": "ddf3ac81-70a3-4514-b62a-7767ac7f3cbe",
   "metadata": {
    "scrolled": true
   },
   "outputs": [
    {
     "data": {
      "text/html": [
       "<h1>Heading1 </h1>\n",
       "<a  targer=\"_blank\" href=\"https://google.com\">Google</a>\n"
      ],
      "text/plain": [
       "<IPython.core.display.HTML object>"
      ]
     },
     "metadata": {},
     "output_type": "display_data"
    }
   ],
   "source": [
    "%%html \n",
    "<h1>Heading1 </h1>\n",
    "<a  targer=\"_blank\" href=\"https://google.com\">Google</a>"
   ]
  },
  {
   "cell_type": "code",
   "execution_count": 44,
   "id": "2165e939-be97-4a1c-bb83-6c6e9987af54",
   "metadata": {},
   "outputs": [
    {
     "data": {
      "application/javascript": [
       "alert( new Date())\n"
      ],
      "text/plain": [
       "<IPython.core.display.Javascript object>"
      ]
     },
     "metadata": {},
     "output_type": "display_data"
    }
   ],
   "source": [
    "%%js\n",
    "alert( new Date())"
   ]
  },
  {
   "cell_type": "code",
   "execution_count": 45,
   "id": "3aedee47-dcdb-41ec-ae69-05176014f26d",
   "metadata": {},
   "outputs": [
    {
     "name": "stdout",
     "output_type": "stream",
     "text": [
      "Overwriting libs.txt\n"
     ]
    }
   ],
   "source": [
    "%%writefile libs.txt\n",
    "Numpy\n",
    "Pandas\n",
    "Matplotlib\n",
    "Seaborn\n",
    "Sklearn"
   ]
  },
  {
   "cell_type": "code",
   "execution_count": 55,
   "id": "ddf0c932-4c2d-4a66-9c08-94e3a82d41b3",
   "metadata": {
    "tags": []
   },
   "outputs": [],
   "source": [
    "%%capture output\n",
    "for i in range(1,11):\n",
    "    print(i)"
   ]
  },
  {
   "cell_type": "code",
   "execution_count": 58,
   "id": "c0675a12-a331-4107-9686-82be34599d10",
   "metadata": {},
   "outputs": [
    {
     "data": {
      "text/plain": [
       "IPython.utils.capture.CapturedIO"
      ]
     },
     "execution_count": 58,
     "metadata": {},
     "output_type": "execute_result"
    }
   ],
   "source": [
    "type(output)"
   ]
  },
  {
   "cell_type": "code",
   "execution_count": 57,
   "id": "8d025eaa-65c3-40ac-bdc3-541078b54135",
   "metadata": {
    "tags": []
   },
   "outputs": [
    {
     "name": "stdout",
     "output_type": "stream",
     "text": [
      "1\n",
      "2\n",
      "3\n",
      "4\n",
      "5\n",
      "6\n",
      "7\n",
      "8\n",
      "9\n",
      "10\n",
      "\n"
     ]
    }
   ],
   "source": [
    "print(output.stdout)"
   ]
  },
  {
   "cell_type": "code",
   "execution_count": 64,
   "id": "302b525b-e4fb-4929-8234-275a6c0229ba",
   "metadata": {},
   "outputs": [
    {
     "name": "stdout",
     "output_type": "stream",
     "text": [
      "88.2 μs ± 4.46 μs per loop (mean ± std. dev. of 7 runs, 10 loops each)\n"
     ]
    }
   ],
   "source": [
    "%%timeit -n 10\n",
    "lst=[]\n",
    "for n in range(1,1000):\n",
    "   lst.append(n*n)"
   ]
  },
  {
   "cell_type": "code",
   "execution_count": 65,
   "id": "4498de30-e1ce-4a87-b7f3-1b129036738c",
   "metadata": {},
   "outputs": [
    {
     "name": "stdout",
     "output_type": "stream",
     "text": [
      "65 μs ± 16.2 μs per loop (mean ± std. dev. of 7 runs, 10 loops each)\n"
     ]
    }
   ],
   "source": [
    "%%timeit -n 10\n",
    "lst = [n*n for n in range(1,1000)]"
   ]
  },
  {
   "cell_type": "code",
   "execution_count": 52,
   "id": "6e2e8ff0-2fd0-401c-abbe-5be51a33e56f",
   "metadata": {},
   "outputs": [],
   "source": [
    "# Get contents of libs.txt into libs variable\n",
    "libs = !type libs.txt   "
   ]
  },
  {
   "cell_type": "code",
   "execution_count": 53,
   "id": "41c4808b-159e-48f4-a5c9-d86365dfa12d",
   "metadata": {},
   "outputs": [
    {
     "name": "stdout",
     "output_type": "stream",
     "text": [
      "['Numpy', 'Pandas', 'Matplotlib', 'Seaborn', 'Sklearn']\n"
     ]
    }
   ],
   "source": [
    "print(libs)"
   ]
  },
  {
   "cell_type": "code",
   "execution_count": 54,
   "id": "1a863c1c-372c-4796-8f6c-f155af87cb5d",
   "metadata": {},
   "outputs": [
    {
     "name": "stdout",
     "output_type": "stream",
     "text": [
      "Numpy\n",
      "Pandas\n",
      "Matplotlib\n",
      "Seaborn\n",
      "Sklearn\n"
     ]
    }
   ],
   "source": [
    "filename='libs.txt'\n",
    "!type {filename}"
   ]
  }
 ],
 "metadata": {
  "kernelspec": {
   "display_name": "Python 3 (ipykernel)",
   "language": "python",
   "name": "python3"
  },
  "language_info": {
   "codemirror_mode": {
    "name": "ipython",
    "version": 3
   },
   "file_extension": ".py",
   "mimetype": "text/x-python",
   "name": "python",
   "nbconvert_exporter": "python",
   "pygments_lexer": "ipython3",
   "version": "3.12.4"
  }
 },
 "nbformat": 4,
 "nbformat_minor": 5
}
