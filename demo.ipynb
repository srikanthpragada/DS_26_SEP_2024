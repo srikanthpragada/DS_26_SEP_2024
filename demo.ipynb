{
 "cells": [
  {
   "cell_type": "code",
   "execution_count": 19,
   "id": "937c0696-bc39-428d-abf5-0aad1edd36e5",
   "metadata": {},
   "outputs": [
    {
     "name": "stdout",
     "output_type": "stream",
     "text": [
      "Welcome to Anaconda\n"
     ]
    }
   ],
   "source": [
    "print(\"Welcome to Anaconda\")"
   ]
  },
  {
   "cell_type": "code",
   "execution_count": 22,
   "id": "6dc8e7d9-ff46-4d0e-ab5a-a00e1a6a0b39",
   "metadata": {},
   "outputs": [
    {
     "name": "stdout",
     "output_type": "stream",
     "text": [
      "0 1 2 3 4 5 6 7 8 9 "
     ]
    }
   ],
   "source": [
    "for n in range(10):\n",
    "    print(n, end = ' ')"
   ]
  },
  {
   "cell_type": "markdown",
   "id": "7ff2c2ba-3f04-47da-8568-80f16b30ee39",
   "metadata": {},
   "source": [
    "## Markdown"
   ]
  },
  {
   "cell_type": "raw",
   "id": "72821095-7abc-471b-b64f-8d8959450a46",
   "metadata": {},
   "source": [
    "This is raw text."
   ]
  },
  {
   "cell_type": "code",
   "execution_count": 21,
   "id": "d17f6386-72f9-4ed9-913c-a615deeffdae",
   "metadata": {},
   "outputs": [
    {
     "name": "stdout",
     "output_type": "stream",
     "text": [
      "2024-09-28 08:12:54.998534\n"
     ]
    }
   ],
   "source": [
    "import datetime\n",
    "print(datetime.datetime.now())"
   ]
  },
  {
   "cell_type": "code",
   "execution_count": null,
   "id": "fd1f1221-5cc6-4372-a8d6-c197114a9e9c",
   "metadata": {},
   "outputs": [],
   "source": []
  },
  {
   "cell_type": "code",
   "execution_count": null,
   "id": "27f55e98-8bc9-4d60-b060-724cacda6e92",
   "metadata": {},
   "outputs": [],
   "source": []
  }
 ],
 "metadata": {
  "kernelspec": {
   "display_name": "Python 3 (ipykernel)",
   "language": "python",
   "name": "python3"
  },
  "language_info": {
   "codemirror_mode": {
    "name": "ipython",
    "version": 3
   },
   "file_extension": ".py",
   "mimetype": "text/x-python",
   "name": "python",
   "nbconvert_exporter": "python",
   "pygments_lexer": "ipython3",
   "version": "3.12.4"
  }
 },
 "nbformat": 4,
 "nbformat_minor": 5
}
