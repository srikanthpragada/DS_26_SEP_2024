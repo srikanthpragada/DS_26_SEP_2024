import matplotlib.pyplot as plt
import pandas as pd
import numpy as np
import seaborn as sns
import matplotlib
%matplotlib inline


matplotlib.__version__


plt.isinteractive()


tips = pd.read_csv("tips.csv")


tips.head()


day_total = tips.groupby('day')['total_bill'].sum()
day_total


day_total = tips.groupby('day', as_index=False)['total_bill'].sum()
day_total





plt.plot(day_total['day'], day_total['total_bill'])  # Line Graph
plt.xlabel("Day of Week")
plt.ylabel("Total Bill")
g = plt.title("Day vs. Total Bill")


plt.title("Day-wise Total Bill")
plt.xlabel("Day")
plt.ylabel("Total Bill")
plt.plot(day_total['day'], day_total['total_bill'], color='red', linestyle='dashed',  linewidth=4)
#plt.plot(day_total['day'], day_total['total_bill'],'bD--')  # color(b) Marker(D) LineStyle(--)


male = tips[ tips.sex == 'Male']
maletotal = male.groupby('day', as_index = False)['total_bill'].sum()

female = tips[ tips.sex == 'Female']
femaletotal = female.groupby('day', as_index = False)['total_bill'].sum()

plt.plot(maletotal['day'], maletotal['total_bill'],color='red', label="Male")
plt.plot(femaletotal['day'], femaletotal['total_bill'],color='blue', label="Female")
plt.legend()
#plt.legend(loc='upper right')
plt.xlabel("Day")
plt.ylabel("Sum of Total Bill")
v = plt.title("Total Bill by Sex")
#plt.ylim(0,1500)  # Change Y-Axis scale 





#plt.bar(day_total['day'], day_total['total_bill'])
plt.bar(day_total['day'], day_total['total_bill'], color='red', width=0.5)
#plt.yticks(np.arange(0,2000,step=200)) 
plt.title("Day-wise Total Bill")
t = plt.xlabel("Day")





plt.title("Day-wise Total Bill")
ax = plt.pie(day_total['total_bill'], labels = day_total['day'])


plt.pie(day_total['total_bill'], labels = day_total['day'], autopct ="%.2f")
t = plt.title("Day-wise Total Bill")


ax = plt.pie(day_total['total_bill'], labels = day_total['day'], autopct ="%.2f",
              explode = (0,0.05,0,0),
              textprops = {'color' : 'blue'},
              wedgeprops = {'linewidth' : 10})
t = plt.title("Day-wise Total Bill")
#print(ax)





plt.scatter(tips['total_bill'], tips['tip'],c = 'green')
plt.title("Total Bill vs. Tip")
plt.xlabel("Total Bill")
plt.ylabel("Tip")
# plt.xlim((0,80))  # X Scale 
# plt.ylim((0,15)) 
#plt.gcf().set_size_inches(15,5)


male_trans = tips.loc [ tips.sex == 'Male',:]
female_trans = tips.loc [ tips.sex == 'Female',:]


plt.scatter(male_trans['total_bill'], male_trans['tip'], c = 'green', marker='+', label='Male')
plt.scatter(female_trans['total_bill'], female_trans['tip'], c = 'red', marker= 'd', label='Female')
plt.title("Total Bill vs. Tip for Male and Female")
plt.xlabel("Total Bill")
plt.ylabel("Tip")
plt.legend()
plt.gcf().set_size_inches(10,5)


plt.scatter(tips['size'], tips['total_bill'])
plt.title("Total Bill vs. Size")
plt.xlabel("Size")
plt.ylabel("Total Bill")


plt.scatter(tips['size'], tips['tip'])
plt.title("Tip vs. Size")
plt.xlabel("Size")
plt.ylabel("Tip")





plt.boxplot(tips['total_bill'],showmeans=True, meanline=True)
plt.title("Total Bill")


prop = {'color':'red', 'linewidth' : 3, 'linestyle' : 'solid'}  # Proerties of box 
ax = plt.boxplot(tips['tip'], showfliers=False, showmeans=True, meanline=True, boxprops=prop)





plt.title("Total Bill Distribution")
plt.xlabel("Total Bill")
plt.ylabel("Count")
ax = plt.hist(tips['total_bill'])


plt.title("Tip Distribution")
plt.xlabel("Tip")
plt.ylabel("Count")
ax = plt.hist(tips['tip'])


edges = range(0,60,10)
print(list(edges))
plt.hist(tips['total_bill'], bins=edges)
plt.title("Total Bill")


plt.hist(tips['total_bill'], bins=5, orientation='horizontal')
plt.title("Total Bill")





ax = plt.subplot()
print(type(ax))
ax.bar(day_total['day'], day_total['total_bill'])
ax.set_title("Day-wise Total Bill")
ax.set_xlabel("Day")
ax.set_ylabel("Total Bill")


fig,ax = plt.subplots(2,1) # 2 row, 1 columns 
fig.suptitle('Day-wise Total', fontsize=14, color='blue')
fig.set_size_inches(15,10)
# First Axes - Bar Graph
ax[0].bar(day_total['day'], day_total['total_bill'], color='red')
ax[0].set_xlabel("Day")
ax[0].set_ylabel("Total Bill")
# Second Axes - Line Graph
ax[1].plot(day_total['day'], day_total['total_bill'], linewidth=4)
ax[1].set_xlabel("Day")
ax[1].set_ylabel("Total Bill")
fig.savefig("day_total.jpg")





plt.plot(day_total['day'], day_total['total_bill'])
# set labels for markers
days = day_total['day']
totals = day_total['total_bill']
for (x,y) in zip(days,totals):
    plt.text(x,y + 100,f"{y:.0f}", fontdict= {'color': 'red','family' : 'calibri', 'size': 12})

plt.text("Fri",1000,'Friday 1000')    


import requests 
import warnings

warnings.filterwarnings('ignore')
countries_dict = requests.get("https://restcountries.com/v2/all",verify=False).json()
countries = pd.DataFrame(countries_dict)

# Take only top 5 countries by population
tc = countries.nlargest(5,'population')
plt.scatter(x = tc ['area'], y = tc ['population'])
plt.gcf().set_size_inches (8,5) # gcf () get current figure and change its size     
plt.xlabel("Area")
plt.ylabel("Population")

# set labels for dots
for i in tc.index:
     population_in_cr = tc.loc[i,'population'] // 10000000
     plt.text(tc.loc[i,'area'] + 100000, tc.loc[i,'population'], f"{tc.loc[i,'alpha3Code']}-{population_in_cr} CR")   


# smoker_total  = pd.crosstab(tips['day'], tips['smoker'], tips['total_bill'], aggfunc=sum)
smoker_total  = tips.pivot_table(index='day', columns='smoker',values= 'total_bill',aggfunc=sum)


smoker_total





ax = plt.subplot()
ax.bar(smoker_total.index , height=smoker_total['Yes'], label="Smokers", color='red')
ax.bar(smoker_total.index , height=smoker_total['No'], bottom = smoker_total["Yes"],  label="Non Smokers")
ax.legend()


smoker_total.plot.bar(stacked=True)


smoker_total


ax = smoker_total.plot.bar()
ax.set_ylabel('Total Bill')
t = ax.set_title('Total Bill Per Day for Smokers vs. Non-Smokers')


day_total= tips.pivot_table(index='sex', columns='day',values= 'total_bill',aggfunc=sum)
day_total


day_total.plot.bar(stacked=True)


day_total.plot.bar()


smoker_total.plot.line()


ax = smoker_total.plot.line(subplots=True)


totals  = pd.crosstab(tips['sex'],tips['day' ], tips['total_bill'], aggfunc=sum)


totals


totals.plot(kind='barh', figsize=(10,5))





ax = tips.hist()
print(ax)
ax[1,0].set_title("Table Size")


ax = tips[['total_bill','tip']].hist()


asia_top_10 = countries.loc[countries.region == 'Asia', ['name', 'population','area']].sort_values('population',ascending=False).head(10)


asia_top_10


fig,(ax1,ax2) = plt.subplots(2,1)  # 2 rows by 1 col 
fig.set_size_inches(15,15)
ax1.bar(asia_top_10['name'],asia_top_10['population'])
t = ax1.set_xticklabels(asia_top_10.name, rotation = 'vertical')
ax2.bar(asia_top_10['name'],asia_top_10['area'])
x = ax2.set_xticklabels(asia_top_10.name, rotation = 80)



