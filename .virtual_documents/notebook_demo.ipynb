print("Hello")


import datetime


print(datetime.datetime.now())


ct  = datetime.datetime.now()


print(ct)


ct.strptime?





s = "abc"






































from IPython.display import Image
Image(url ="http://www.srikanthtechnologies.com/banner.jpg")





%pwd


%system dir


%who





%%html 
<h1>Heading1 </h1>
<a  targer="_blank" href="https://google.com">Google</a>


%%js
alert( new Date())


%%writefile libs.txt
Numpy
Pandas
Matplotlib
Seaborn
Sklearn


%%capture output
for i in range(1,11):
    print(i)


type(output)


print(output.stdout)


%%timeit -n 10
lst=[]
for n in range(1,1000):
   lst.append(n*n)


%%timeit -n 10
lst = [n*n for n in range(1,1000)]


# Get contents of libs.txt into libs variable
libs = !type libs.txt   


print(libs)


filename='libs.txt'
!type {filename}



