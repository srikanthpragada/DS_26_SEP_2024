import sqlite3
import pandas as pd


con = sqlite3.connect(r"c:\classroom\hr.db")


df = pd.read_sql("select * from employees",con)


df.info()


df


df['hra'] = df.salary * 0.30


df


df.groupby('job')['salary'].median()


cur = con.cursor()
cur.execute("drop table hra_employees")
df.to_sql("hra_employees",con, index=False)





df.to_excel(r"c:\classroom\hr.xlsx", sheet_name="employees", index=False)


empdf = pd.read_excel(r"c:\classroom\hr.xlsx",sheet_name="employees")


empdf


empbyjob = empdf.groupby("job")['salary'].sum()


empbyjob


empbyjob.plot.pie()






