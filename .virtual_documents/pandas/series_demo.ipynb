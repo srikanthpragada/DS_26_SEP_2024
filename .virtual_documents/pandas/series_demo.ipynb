import pandas as pd
import numpy as np


pd.__version__


s = pd.Series([10,20,30,40,50])


type(s)


s


s[0]


sales = pd.Series([10,20,40,30,50], index = ['mon','tue','wed','mon','fri'])   # Custom index


sales


sales['mon']


sales[0]  # Position as index is string


marks = pd.Series([60,80,56,89,66], index =[101,102,103,104,105])


marks


marks[101]


#marks[0]  # will throw error as 0 is taken as index


nums = pd.Series( np.random.randint(1,100,10), index = np.arange(11,21))


nums





nums.is_unique


nums.axes   # Row labels or indexes


print(nums.index),
print(type(nums.index))


# Convert Series to Numpy Array
print(nums.values, type(nums.values))





nums[11], nums.loc[11]   # Index (row label)


nums.iloc[0]    # Position 


# for loc end range is inclusive  
nums.loc[11:15]


nums.iloc[0:5]   # for iloc it is exclusive 





nums > 50


nums[ nums > 50 ]  # Boolean indexing


nums.loc[[11,15,20]]  # Array of Row labels


nums.iloc[[0,4,6]]    # Array of Row positions





nums.describe()


summary = nums.describe()
print(type(summary))


summary['mean'], summary['50%']


summary['75%'] - summary['25%']   # IQR


nums.mean()


nums.index.is_unique


nums.hist(bins = 5)


nums.plot(kind="kde")





for i, n in nums.items():  # unpack index and value 
     print(f"{i} - {n}")


for n in nums:  # iterate values
    print(n)





marks = pd.Series([60,70,80,60,85,75],  name = "Python")


marks


marks.rank()


marks.rank(ascending=False)


marks.rank(method='min')


marks.rank(method='dense')


marks.rank(method='dense', ascending=False)


marks.rank(method='first')





marks.head()   # First 5


marks.tail(3)


marks.sample(3)


marks.sample(frac=0.5)   # 50% of data 


sales = pd.Series( [100,120,150,100,80,200], index = [1,2,3,4,5,6])


# Display months where value is less than previous month 



pd.Series([10,20,30,15,30]).pct_change() 


sales.sort_values(ascending=False)


sales


sales.quantile(.25)


sales.quantile([.25,.50,.75])


# Parameter is a series 
def count_even(s):
    count = 0
    for n in s:
        if n % 2 == 0:
            count +=1
    return count 


# Parameter is a series 
def big_small(s):  
    return ((s <= 100).sum(), (s > 100).sum())


# Parameter is a series 
def get_even_count(s):
    return (s % 2 == 0).sum()  


sales





sales.agg(['sum','mean'])


sales.agg(['min','max','count', get_even_count, big_small])





# Parameter is a single value from series 
def get_grade(v):
    if v > 80:
        return "A"
    elif v > 60:
        return "B"
    else:
        return "C"


marks = pd.Series([89,50,77,65,54,68])
marks.apply(get_grade)


# Python 
for v in map(get_grade,marks):
    print(v)


marks.apply(lambda v : 'Passed' if v >=70 else 'Failed')


marks.count()


marks.sort_values(ascending=False).iloc[:3]  # Top 3 marks


marks.sort_values(ascending=False)


marks.sort_values(ascending=False).loc[:3]   # upto index 3





sales = pd.Series((100,120,150,100,200), index  = np.arange(1,6))
sales.name  = "Sales"
sales.index.name = "Month"


sales


sales.to_csv("sales.csv")


sales.to_json()


sales.value_counts()





# load data from csv
sales = pd.read_csv("sales.csv")


type(sales)


sales





sales = pd.Series((100,120,150,100,200,np.nan,175,np.nan,200,100, 120, 140), 
                   index  = np.arange(1,13))
sales.name  ="Sales"
sales.index.name = "Month"


sales


sales.isnull()    # sales.isna()


sales.isnull().sum()  # Count null values 


sales.notna().sum()   #  Count no. of not null values 


sales.notna().value_counts()


sales [sales.notna()]   # Display all not null (notna) values 


sales [sales.isna()].index   # Get indexes for null values 


sales.fillna(-1)     # Fill null values with -1


sales.dropna()  # inplace=True will modify series inplace 


sales


sales.fillna(sales.mean())


sales.mean()   # doesn't take nulls into account 


sales.dropna().mean()


sales.sum() / sales.size   # Mean by counting null values 


sales[1] = 200   # Modify series  


sales


sales2  = sales.dropna()   # Gets a copy of sales 


sales2[1] = 50 


sales


sales2


sales.mode()


sales.cumsum()


sales.dropna().cumsum()


sales.dropna().drop_duplicates()



