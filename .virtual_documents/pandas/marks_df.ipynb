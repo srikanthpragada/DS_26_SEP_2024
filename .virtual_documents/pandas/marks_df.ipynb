import pandas as pd
import numpy as np


df = pd.read_csv('marks.csv',header=None, names=['name','subject','marks']) 


df


df.info()


df.columns


df.size


df.shape


df.values


df.describe()  # Considers only numeric cols 


df.shape


df.describe(include='all')    # Include all columns 


df.axes





df.subject   # dj['subject']


df[['name','marks']]  # Col names


df[3:7]   # slicing by row index 


#df[3]  # column name  





# at and iat do not support slicing 
print(df.at[0,'marks'])   # Row label and col label
print(df.iat[0,2])        # Row pos and col pos 


df.marks > 80


df[df.marks > 80]   # Boolean indexing


df[df.marks > 80].marks


df[df.subject == 'Python']


df[df.marks > 80][['name','marks']]





df.loc[8,'name']


df.loc[df.marks > 80, ['name','marks']]


df.loc[ : 8, : 'subject']  # Rows upto row-label 8, Cols upto subject


(df.subject == 'Python') & (df.marks > 80)  # Masking 


df[(df.subject == 'Python') & (df.marks > 80)]   # & is logical And, Paranetheses must


df.loc[1:5, 'name': 'marks']


df.loc[ df.marks > 60, 'subject':]


df.iloc[0:2,0:2]





df.sample(3)


df.subject.isin(['Python','Java'])


# get rows related to python and java
df[df.subject.isin(['Python','Java'])]


df.where(df.marks > 80)


df.filter(regex='e$')  # select columns where column name ends with letter e


df.filter(regex='6', axis=0)  # Filter by row labels 





df['marks'] - 50


df





df.nlargest(4,'marks')   # Keep='first'


df.nlargest(4,'marks', keep='all')


df[['name','subject']].drop_duplicates()


df['name'].drop_duplicates()
#df['name'].unique()


df.subject.drop_duplicates()


df.subject.dropna().unique()





# s is a series 
def count_nulls(s):
    return s.isnull().sum()


df.apply(count_nulls)  # passes one col as series 


df.apply(lambda s : s.notnull().sum())   # Apply operation on each column


df.apply(lambda s : s.notnull().sum(), axis=1)   # Apply operation on each row 


type(df[['name']]), type(df.name)


df[['name','subject']].apply(lambda s: s.isnull().sum())


# df[['name','subject']].applymap(lambda v : str(v).upper())


def convert_upper(v):
    if isinstance(v,str):
        return v.strip().upper()
    else:
        return v


df.applymap(lambda v : str(v).upper())


df.applymap(convert_upper)


df[['name','subject']].applymap(convert_upper)


type(df.loc[8,'subject']), type(None)


# applymap() and map() same
df[['name','subject']].map(lambda v : v.upper() if isinstance(v,str) else 'Missing')





#df.name.upper() 


# df.name.upper()   --> Doesn't work as df.name is a Series 
# df.subject.apply(str.upper)   # Throws errors if you have NaN values
#df.name.apply(lambda v : v[:2])


df.name.str.upper()


df.name.str.count('e')


df [ df.name.str.startswith('S')]     


df[ (df.name.str.len() == 4) |  (df.name.str.len() == 5)]


df.name.str.findall('[A-Za-z]{3}')   # Find matches to RE


df.name.str.extract('([A-Z+])([a-z]+)')   # Grouping in RE





df


row = pd.DataFrame({'name':'Mark','subject':'Java', 'marks':90}, index = [0])


row


df = pd.concat([df,row], ignore_index=True)  # Add a row at the end


df


df.loc[12] = ['Mark','Python',88] # Changes existing row or adds new row 


df


df.loc[10] = ['Mark','C',95]   # Replace what is in 10th index 


df


df.loc[13] = ['Ben','Python',np.NaN]  


df


df.loc[13, 'marks'] = 87


df.index.is_unique





df['passmark'] = 50


df.head()


df.loc[ df.subject == 'Python', 'passmark'] = 70  # Change passmark for Python


df


df.loc[12, 'marks'] = 40


df [df.marks < df.passmark]


def get_grade(m):
    if m > 90:
        return 'A'
    elif m > 80:
        return 'B'
    else:
        return 'C'


grades = df.marks.apply(get_grade)
type(grades)


df['grade'] = grades     # New column with values from Series


df.head()


df['passed'] = df.marks >= df.passmark


df


df.grade.value_counts(ascending=True)





df.drop(index = [12,13], inplace=True, axis=0)  # Drop rows with indexes 12 and 13


#df.drop(index = [20])    # axis = 0 means row label 


df[df.subject == 'Python'].index


df.drop( df[df.subject == 'Python'].index )


pd.__version__


df.drop(columns=['marks']) 
#df.drop(['grade'],axis=1)    # Dropping columns 





indices = df[df.subject == 'Java'].index


indices


# df.drop(indices, axis = 0)
df.drop(index = indices)





df.dropna().sort_values(by  = 'marks')


df.sort_values(by=['subject','marks'],ascending=[True,False])  # Sort first by subject then by marks desc


students = pd.DataFrame( {'rollno' : np.arange(1,11), 'name' : ['name' + str(i) for i in range(1,11)]})


students


students.sort_index(ascending=False)


stud_df = students.set_index('rollno')


stud_df


stud_df.reset_index()


stud_df.reset_index(drop=True) # Drops existing custom index 


students.rename( columns = {'rollno': 'admno','name' : 'fullname'})   # rename col labels 


students.columns


stud_df = students.rename(index = {0:11, 1:11})   # rename row index


stud_df.head()


students.columns


students.columns = ['id','firstname']   # Changes all column names 


students





df1 = pd.DataFrame( ((1,2,3),(4,5,6)), columns=list('abc'))
df2 = pd.DataFrame( ((10,11,12),(13,14,15)), columns=list('abc'))


print(df1)
print(df2)


pd.concat((df1,df2), ignore_index=True)  # Generate new index 


pd.concat((df1,df2))


df1 = pd.DataFrame( ((1,2,3),(4,5,6)), columns=list('abc'), index=(1,2))
df2 = pd.DataFrame( ((1,2,3),(4,5,6)), columns=list('xyz'), index=(10,2))


df1


df2


pd.concat((df1,df2), axis=1)  # Join based on row index - outer join


pd.concat((df1,df2))


pd.concat((df1,df2), axis=1, join='inner')


df1 = pd.DataFrame ( {'name' : ['A','B','C'], 'age' : [25,20,26]})
df2 = pd.DataFrame ( {'name' : ['A','B','D'], 'gender' : ['M','F','F']})


df1


df2


pd.concat((df1,df2), axis=1)


df1.merge(df2)  # Merge based on common column - name  (inner join)


df1.merge(df2, how='outer')   # Outer join


df1.merge(df2, left_index=True, right_index=True)  # Merge based on left and right indexes


df1 = pd.DataFrame ( {'name' : ['A','B','C'], 'age' : [25,20,26]})
df2 = pd.DataFrame ( {'firstname' : ['A','B','D'], 'gender' : ['M','F','F']})


# When col names are not same use left_on and right_on
df1.merge(df2, left_on='name', right_on='firstname', how = 'outer') 





df = pd.read_csv('marks.csv',header=None, names=['name','subject','marks'])


subgroup = df.groupby('subject')
print(type(subgroup))


submean = subgroup.mean(numeric_only=True)


type(submean)


submean


submean.loc['Python',:]


subgroup.max(numeric_only=True)


subgroup['marks'].max()


df.groupby('subject')['marks'].aggregate(['mean','sum','max','min'])


subgroups = df.groupby(['subject'])


subgroups.groups


java = subgroups.get_group('Java')
print(java)


for g in subgroups.groups:
    print(g)
    print(subgroups.get_group(g))


name_g = df.groupby('name')['marks'].sum()
print(name_g)


name_g = df.groupby('name', as_index = False)['marks'].sum()
print(name_g)


name_g.nlargest(2,'marks')


sub_g = df.groupby('subject')
for g in sub_g.groups:
    print(sub_g.get_group(g).nlargest(2,'marks'))
    # print(sub_g.get_group(g).sort_values('marks', ascending =False)[:2])


df.groupby('name')['marks'].mean()





df


df.dropna()   # drops rows with one or more null values


df.dropna(axis=1)  # Drop columns with one or more null values


df.dropna(how='all')  # Drops if rows that have null values in all columns


df.fillna(0)


df.fillna(method="ffill")  # Forward fill 


df.fillna({'subject': "unknown", 'marks' : 0})


df.fillna({'marks' : df['marks'].mean()})


df.isna()


df.isna().any()


df.isna().any(axis=1)   # True if row contains atleast one na value


df.isna().all(axis = 1)


df.isna().sum()


df[df.isna().any(axis=1)]  # Select rows that contain one or more null values 


df.loc [:, [False, True, True]]  # Boolean index for columns 


df.isna().any()


df.loc[:,df.isna().any()]    # Display columns that have null values 


df.loc[:,df.notna().all()]    # Display columns that have no null values 


df[['name','subject']].duplicated()


print(df.subject)
df.subject.duplicated()


df['subject'].nunique()


df.subject.unique()


df.subject.dropna().unique()


df.replace('Python','P')


df.fillna({'subject': 'C'}).replace(['Python','Java','HTML','C'],[1,2,3,4])  # Encoding 


 # Encoding # Subject becomes float as it has null value
df.replace(['Python','Java','HTML','C'],[1,2,3,4]) 


df.marks


#df.marks.astype('int32')


df['marks'].fillna(0).astype('int32')


df2 = df.dropna()


df2


df2['marks'].astype('int32')





df.to_json("marks.json")   # Col-wise


df.to_json("marks.json", orient="records")   # row-wise 


df.loc[ df.subject == 'Python',['name','marks']].to_csv("python_marks.csv",index=False,header=False)


df.fillna({'marks' : -1}).to_csv("final_marks.csv", index=False)





print(df.marks)
pd.cut(df['marks'], bins = 3, precision = 0)


pd.cut(df['marks'], bins = 3, precision = 0, right = False)


pd.cut(df['marks'],bins=[50,70,85,100])


df['grade'] = pd.cut(df['marks'],bins=[50,70,85,100], labels=['C','B','A'])
df[['marks','grade']]


print(df.marks)
print(pd.qcut(df['marks'],  3, precision= 0))


df['rating'] = pd.qcut( df['marks'], q=[0,.50,.75,1.0], labels=['Low','Avg','High'], precision=0)


df[['marks','rating']]





new_df = pd.get_dummies(df)


new_df.columns


new_df


new_df.shape, df.shape


df





df.marks.hist()


subgroup = df.groupby('subject')['marks'].mean()
print(subgroup)
subgroup.plot.bar()


studgroup = df.groupby('name')['marks'].mean()
studgroup


studgroup.plot.pie()


studgroup.plot.bar()






