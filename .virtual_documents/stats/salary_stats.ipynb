import scipy.stats as ss
import statistics as stats
import pandas as pd
import seaborn as sb





data = pd.read_csv("Salary.csv")  # returns DataFrame
salaries = data['salary']
years = data['exp']


data.head()


data.columns


type(salaries)


stats.mean(salaries)


stats.median(salaries)


stats.variance(salaries)


stats.stdev(salaries)


ss.skew(salaries)


ss.kurtosis(salaries)


salaries.plot(kind='hist',bins=5)


ss.iqr(salaries)


r, p = ss.pearsonr(data['exp'], data['salary'])


print(f"{r:.2f}, {p:.5f}")


data.plot(x='exp', y='salary', kind='scatter')


lr = ss.linregress(years,salaries)


lr


exp = [2,8,6,5,4]
pre_sals = []
for x in exp:
   pre_sals.append( lr.intercept + lr.slope * x)   # a + bx


pre_sals





exp_sals = []
for x in years:
   exp_sals.append(lr.intercept +  lr.slope * x)


exp_sals


salaries


ds = pd.DataFrame( {'years' : years, 'sals' : exp_sals})


ds.head()


# Compare exp with actual 
sb.scatterplot(x='exp', y='salary', data = data)
sb.lineplot(x='years', y='sals',data= ds)
