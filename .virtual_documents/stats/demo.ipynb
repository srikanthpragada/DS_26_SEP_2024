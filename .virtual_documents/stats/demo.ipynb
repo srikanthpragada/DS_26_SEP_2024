import statistics as s
import random
import numpy as np
import scipy.stats as ss


salaries = [3,4,5,4,5,50]


s.mean(salaries)


s.median(salaries)


s.mode(salaries)


s.multimode([3,4,5,4,5,40])


marks = [90,89,55,66,55,77,88,99,87,76]


s.mean(marks)


sum(marks) / len(marks)  # Using built-in functions


s.median(marks)





marks = [1,89,77,66,66,77,88,99,53,6]


s.mean(marks),s.median(marks)


s.mode(marks)


ages = []
for i in range(20):
    ages.append(random.randint(1,100))


ages


s.mean(ages), s.median(ages)





print ("Range : ", max(ages) - min(ages))


s.variance(ages)


s.stdev(ages)


salaries = [3,4,5,6, 4,5,6]


s.stdev(salaries)


s.stdev([3,14,15,6,16,5,6])





ss.iqr(ages)


prices = [60,590,89,78,60,56,75,5]


ss.iqr(prices), s.stdev(prices)





np.percentile(prices,25), np.percentile(prices,75)


ss.describe(ages)





ages = []
for i in range(20):
    ages.append(random.randint(1,100))


# Display outliners in ages





prices = []
for i in range(50):
    prices.append(random.randint(1,10000))


s.mean(prices), s.median(prices)


ss.skew(prices)





#Normal distribution  - skewness is 0
marks = [10,20,30,40,50,60,70,80]
ss.skew(marks)


#Skewed to right - positive skewness 
marks = [10,20,30,40,50,60,70,120,200]
print(ss.skew(marks), s.mean(marks), s.median(marks))


#Skewed to left - - Negative skewness 
marks = [10,100,110,120,150]
ss.skew(marks)





# Negative kurtosis - Less data in tails 
marks = [60,70,80,90,100]
ss.kurtosis(marks)


# Negative kurtosis - Less data in tails 
marks = [10,20,30,40,50,60,70,80]
ss.kurtosis(marks)


# Positive krutosis - More data in tails 
marks = [10,15,20,90,90,90,100,150,200,300,600]
ss.kurtosis(marks)





data = [1,3,5,6,8,9,10,14,15,20]
p25=np.percentile(data,25)
p75=np.percentile(data,75)

print(p25,p75, p75-p25)



