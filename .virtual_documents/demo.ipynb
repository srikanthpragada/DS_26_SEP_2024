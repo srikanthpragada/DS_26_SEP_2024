print("Welcome to Anaconda")


for n in range(10):
    print(n, end = ' ')








import datetime
print(datetime.datetime.now())






